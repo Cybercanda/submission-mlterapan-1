{
 "cells": [
  {
   "cell_type": "code",
   "execution_count": 22,
   "id": "initial_id",
   "metadata": {
    "collapsed": true,
    "ExecuteTime": {
     "end_time": "2023-09-25T07:10:02.126777893Z",
     "start_time": "2023-09-25T07:10:01.999086337Z"
    }
   },
   "outputs": [],
   "source": [
    "import numpy as np\n",
    "import matplotlib.pyplot as plt\n",
    "import pandas as pd\n",
    "import seaborn as sns\n",
    "%matplotlib inline"
   ]
  },
  {
   "cell_type": "markdown",
   "source": [
    "## Data Loading"
   ],
   "metadata": {
    "collapsed": false
   },
   "id": "1463710ee301dc78"
  },
  {
   "cell_type": "code",
   "execution_count": 23,
   "outputs": [
    {
     "data": {
      "text/plain": "   Marital status  Application mode  Application order  Course  \\\n0               1                 8                  5       2   \n1               1                 6                  1      11   \n2               1                 1                  5       5   \n3               1                 8                  2      15   \n4               2                12                  1       3   \n\n   Daytime/evening attendance  Previous qualification  Nacionality  \\\n0                           1                       1            1   \n1                           1                       1            1   \n2                           1                       1            1   \n3                           1                       1            1   \n4                           0                       1            1   \n\n   Mother's qualification  Father's qualification  Mother's occupation  ...  \\\n0                      13                      10                    6  ...   \n1                       1                       3                    4  ...   \n2                      22                      27                   10  ...   \n3                      23                      27                    6  ...   \n4                      22                      28                   10  ...   \n\n   Curricular units 2nd sem (credited)  Curricular units 2nd sem (enrolled)  \\\n0                                    0                                    0   \n1                                    0                                    6   \n2                                    0                                    6   \n3                                    0                                    6   \n4                                    0                                    6   \n\n   Curricular units 2nd sem (evaluations)  \\\n0                                       0   \n1                                       6   \n2                                       0   \n3                                      10   \n4                                       6   \n\n   Curricular units 2nd sem (approved)  Curricular units 2nd sem (grade)  \\\n0                                    0                          0.000000   \n1                                    6                         13.666667   \n2                                    0                          0.000000   \n3                                    5                         12.400000   \n4                                    6                         13.000000   \n\n   Curricular units 2nd sem (without evaluations)  Unemployment rate  \\\n0                                               0               10.8   \n1                                               0               13.9   \n2                                               0               10.8   \n3                                               0                9.4   \n4                                               0               13.9   \n\n   Inflation rate   GDP    Target  \n0             1.4  1.74   Dropout  \n1            -0.3  0.79  Graduate  \n2             1.4  1.74   Dropout  \n3            -0.8 -3.12  Graduate  \n4            -0.3  0.79  Graduate  \n\n[5 rows x 35 columns]",
      "text/html": "<div>\n<style scoped>\n    .dataframe tbody tr th:only-of-type {\n        vertical-align: middle;\n    }\n\n    .dataframe tbody tr th {\n        vertical-align: top;\n    }\n\n    .dataframe thead th {\n        text-align: right;\n    }\n</style>\n<table border=\"1\" class=\"dataframe\">\n  <thead>\n    <tr style=\"text-align: right;\">\n      <th></th>\n      <th>Marital status</th>\n      <th>Application mode</th>\n      <th>Application order</th>\n      <th>Course</th>\n      <th>Daytime/evening attendance</th>\n      <th>Previous qualification</th>\n      <th>Nacionality</th>\n      <th>Mother's qualification</th>\n      <th>Father's qualification</th>\n      <th>Mother's occupation</th>\n      <th>...</th>\n      <th>Curricular units 2nd sem (credited)</th>\n      <th>Curricular units 2nd sem (enrolled)</th>\n      <th>Curricular units 2nd sem (evaluations)</th>\n      <th>Curricular units 2nd sem (approved)</th>\n      <th>Curricular units 2nd sem (grade)</th>\n      <th>Curricular units 2nd sem (without evaluations)</th>\n      <th>Unemployment rate</th>\n      <th>Inflation rate</th>\n      <th>GDP</th>\n      <th>Target</th>\n    </tr>\n  </thead>\n  <tbody>\n    <tr>\n      <th>0</th>\n      <td>1</td>\n      <td>8</td>\n      <td>5</td>\n      <td>2</td>\n      <td>1</td>\n      <td>1</td>\n      <td>1</td>\n      <td>13</td>\n      <td>10</td>\n      <td>6</td>\n      <td>...</td>\n      <td>0</td>\n      <td>0</td>\n      <td>0</td>\n      <td>0</td>\n      <td>0.000000</td>\n      <td>0</td>\n      <td>10.8</td>\n      <td>1.4</td>\n      <td>1.74</td>\n      <td>Dropout</td>\n    </tr>\n    <tr>\n      <th>1</th>\n      <td>1</td>\n      <td>6</td>\n      <td>1</td>\n      <td>11</td>\n      <td>1</td>\n      <td>1</td>\n      <td>1</td>\n      <td>1</td>\n      <td>3</td>\n      <td>4</td>\n      <td>...</td>\n      <td>0</td>\n      <td>6</td>\n      <td>6</td>\n      <td>6</td>\n      <td>13.666667</td>\n      <td>0</td>\n      <td>13.9</td>\n      <td>-0.3</td>\n      <td>0.79</td>\n      <td>Graduate</td>\n    </tr>\n    <tr>\n      <th>2</th>\n      <td>1</td>\n      <td>1</td>\n      <td>5</td>\n      <td>5</td>\n      <td>1</td>\n      <td>1</td>\n      <td>1</td>\n      <td>22</td>\n      <td>27</td>\n      <td>10</td>\n      <td>...</td>\n      <td>0</td>\n      <td>6</td>\n      <td>0</td>\n      <td>0</td>\n      <td>0.000000</td>\n      <td>0</td>\n      <td>10.8</td>\n      <td>1.4</td>\n      <td>1.74</td>\n      <td>Dropout</td>\n    </tr>\n    <tr>\n      <th>3</th>\n      <td>1</td>\n      <td>8</td>\n      <td>2</td>\n      <td>15</td>\n      <td>1</td>\n      <td>1</td>\n      <td>1</td>\n      <td>23</td>\n      <td>27</td>\n      <td>6</td>\n      <td>...</td>\n      <td>0</td>\n      <td>6</td>\n      <td>10</td>\n      <td>5</td>\n      <td>12.400000</td>\n      <td>0</td>\n      <td>9.4</td>\n      <td>-0.8</td>\n      <td>-3.12</td>\n      <td>Graduate</td>\n    </tr>\n    <tr>\n      <th>4</th>\n      <td>2</td>\n      <td>12</td>\n      <td>1</td>\n      <td>3</td>\n      <td>0</td>\n      <td>1</td>\n      <td>1</td>\n      <td>22</td>\n      <td>28</td>\n      <td>10</td>\n      <td>...</td>\n      <td>0</td>\n      <td>6</td>\n      <td>6</td>\n      <td>6</td>\n      <td>13.000000</td>\n      <td>0</td>\n      <td>13.9</td>\n      <td>-0.3</td>\n      <td>0.79</td>\n      <td>Graduate</td>\n    </tr>\n  </tbody>\n</table>\n<p>5 rows × 35 columns</p>\n</div>"
     },
     "execution_count": 23,
     "metadata": {},
     "output_type": "execute_result"
    }
   ],
   "source": [
    "dropout_df = pd.read_csv(\"data/dataset.csv\")\n",
    "dropout_df.head()"
   ],
   "metadata": {
    "collapsed": false,
    "ExecuteTime": {
     "end_time": "2023-09-25T07:10:02.245273903Z",
     "start_time": "2023-09-25T07:10:02.047588207Z"
    }
   },
   "id": "bf5723643bee605b"
  },
  {
   "cell_type": "markdown",
   "source": [
    "## Exploratory Data Analysis (EDA)"
   ],
   "metadata": {
    "collapsed": false
   },
   "id": "17083321f9a851f2"
  },
  {
   "cell_type": "markdown",
   "source": [
    "### Deskripsi Variabel"
   ],
   "metadata": {
    "collapsed": false
   },
   "id": "894659165ca41a83"
  },
  {
   "cell_type": "markdown",
   "source": [
    "Deskripsi Variabel\n"
   ],
   "metadata": {
    "collapsed": false
   },
   "id": "66a4da1dc6450129"
  },
  {
   "cell_type": "code",
   "execution_count": 24,
   "outputs": [
    {
     "name": "stdout",
     "output_type": "stream",
     "text": [
      "<class 'pandas.core.frame.DataFrame'>\n",
      "RangeIndex: 4424 entries, 0 to 4423\n",
      "Data columns (total 35 columns):\n",
      " #   Column                                          Non-Null Count  Dtype  \n",
      "---  ------                                          --------------  -----  \n",
      " 0   Marital status                                  4424 non-null   int64  \n",
      " 1   Application mode                                4424 non-null   int64  \n",
      " 2   Application order                               4424 non-null   int64  \n",
      " 3   Course                                          4424 non-null   int64  \n",
      " 4   Daytime/evening attendance                      4424 non-null   int64  \n",
      " 5   Previous qualification                          4424 non-null   int64  \n",
      " 6   Nacionality                                     4424 non-null   int64  \n",
      " 7   Mother's qualification                          4424 non-null   int64  \n",
      " 8   Father's qualification                          4424 non-null   int64  \n",
      " 9   Mother's occupation                             4424 non-null   int64  \n",
      " 10  Father's occupation                             4424 non-null   int64  \n",
      " 11  Displaced                                       4424 non-null   int64  \n",
      " 12  Educational special needs                       4424 non-null   int64  \n",
      " 13  Debtor                                          4424 non-null   int64  \n",
      " 14  Tuition fees up to date                         4424 non-null   int64  \n",
      " 15  Gender                                          4424 non-null   int64  \n",
      " 16  Scholarship holder                              4424 non-null   int64  \n",
      " 17  Age at enrollment                               4424 non-null   int64  \n",
      " 18  International                                   4424 non-null   int64  \n",
      " 19  Curricular units 1st sem (credited)             4424 non-null   int64  \n",
      " 20  Curricular units 1st sem (enrolled)             4424 non-null   int64  \n",
      " 21  Curricular units 1st sem (evaluations)          4424 non-null   int64  \n",
      " 22  Curricular units 1st sem (approved)             4424 non-null   int64  \n",
      " 23  Curricular units 1st sem (grade)                4424 non-null   float64\n",
      " 24  Curricular units 1st sem (without evaluations)  4424 non-null   int64  \n",
      " 25  Curricular units 2nd sem (credited)             4424 non-null   int64  \n",
      " 26  Curricular units 2nd sem (enrolled)             4424 non-null   int64  \n",
      " 27  Curricular units 2nd sem (evaluations)          4424 non-null   int64  \n",
      " 28  Curricular units 2nd sem (approved)             4424 non-null   int64  \n",
      " 29  Curricular units 2nd sem (grade)                4424 non-null   float64\n",
      " 30  Curricular units 2nd sem (without evaluations)  4424 non-null   int64  \n",
      " 31  Unemployment rate                               4424 non-null   float64\n",
      " 32  Inflation rate                                  4424 non-null   float64\n",
      " 33  GDP                                             4424 non-null   float64\n",
      " 34  Target                                          4424 non-null   object \n",
      "dtypes: float64(5), int64(29), object(1)\n",
      "memory usage: 1.2+ MB\n"
     ]
    }
   ],
   "source": [
    "# Info Dataset\n",
    "dropout_df.info()"
   ],
   "metadata": {
    "collapsed": false,
    "ExecuteTime": {
     "end_time": "2023-09-25T07:10:02.348069730Z",
     "start_time": "2023-09-25T07:10:02.230245414Z"
    }
   },
   "id": "7107d884656916a6"
  },
  {
   "cell_type": "code",
   "execution_count": 25,
   "outputs": [
    {
     "data": {
      "text/plain": "       Marital status  Application mode  Application order       Course  \\\ncount     4424.000000       4424.000000        4424.000000  4424.000000   \nmean         1.178571          6.886980           1.727848     9.899186   \nstd          0.605747          5.298964           1.313793     4.331792   \nmin          1.000000          1.000000           0.000000     1.000000   \n25%          1.000000          1.000000           1.000000     6.000000   \n50%          1.000000          8.000000           1.000000    10.000000   \n75%          1.000000         12.000000           2.000000    13.000000   \nmax          6.000000         18.000000           9.000000    17.000000   \n\n       Daytime/evening attendance  Previous qualification  Nacionality  \\\ncount                 4424.000000             4424.000000  4424.000000   \nmean                     0.890823                2.531420     1.254521   \nstd                      0.311897                3.963707     1.748447   \nmin                      0.000000                1.000000     1.000000   \n25%                      1.000000                1.000000     1.000000   \n50%                      1.000000                1.000000     1.000000   \n75%                      1.000000                1.000000     1.000000   \nmax                      1.000000               17.000000    21.000000   \n\n       Mother's qualification  Father's qualification  Mother's occupation  \\\ncount             4424.000000             4424.000000          4424.000000   \nmean                12.322107               16.455244             7.317812   \nstd                  9.026251               11.044800             3.997828   \nmin                  1.000000                1.000000             1.000000   \n25%                  2.000000                3.000000             5.000000   \n50%                 13.000000               14.000000             6.000000   \n75%                 22.000000               27.000000            10.000000   \nmax                 29.000000               34.000000            32.000000   \n\n       ...  Curricular units 1st sem (without evaluations)  \\\ncount  ...                                     4424.000000   \nmean   ...                                        0.137658   \nstd    ...                                        0.690880   \nmin    ...                                        0.000000   \n25%    ...                                        0.000000   \n50%    ...                                        0.000000   \n75%    ...                                        0.000000   \nmax    ...                                       12.000000   \n\n       Curricular units 2nd sem (credited)  \\\ncount                          4424.000000   \nmean                              0.541817   \nstd                               1.918546   \nmin                               0.000000   \n25%                               0.000000   \n50%                               0.000000   \n75%                               0.000000   \nmax                              19.000000   \n\n       Curricular units 2nd sem (enrolled)  \\\ncount                          4424.000000   \nmean                              6.232143   \nstd                               2.195951   \nmin                               0.000000   \n25%                               5.000000   \n50%                               6.000000   \n75%                               7.000000   \nmax                              23.000000   \n\n       Curricular units 2nd sem (evaluations)  \\\ncount                             4424.000000   \nmean                                 8.063291   \nstd                                  3.947951   \nmin                                  0.000000   \n25%                                  6.000000   \n50%                                  8.000000   \n75%                                 10.000000   \nmax                                 33.000000   \n\n       Curricular units 2nd sem (approved)  Curricular units 2nd sem (grade)  \\\ncount                          4424.000000                       4424.000000   \nmean                              4.435805                         10.230206   \nstd                               3.014764                          5.210808   \nmin                               0.000000                          0.000000   \n25%                               2.000000                         10.750000   \n50%                               5.000000                         12.200000   \n75%                               6.000000                         13.333333   \nmax                              20.000000                         18.571429   \n\n       Curricular units 2nd sem (without evaluations)  Unemployment rate  \\\ncount                                     4424.000000        4424.000000   \nmean                                         0.150316          11.566139   \nstd                                          0.753774           2.663850   \nmin                                          0.000000           7.600000   \n25%                                          0.000000           9.400000   \n50%                                          0.000000          11.100000   \n75%                                          0.000000          13.900000   \nmax                                         12.000000          16.200000   \n\n       Inflation rate          GDP  \ncount     4424.000000  4424.000000  \nmean         1.228029     0.001969  \nstd          1.382711     2.269935  \nmin         -0.800000    -4.060000  \n25%          0.300000    -1.700000  \n50%          1.400000     0.320000  \n75%          2.600000     1.790000  \nmax          3.700000     3.510000  \n\n[8 rows x 34 columns]",
      "text/html": "<div>\n<style scoped>\n    .dataframe tbody tr th:only-of-type {\n        vertical-align: middle;\n    }\n\n    .dataframe tbody tr th {\n        vertical-align: top;\n    }\n\n    .dataframe thead th {\n        text-align: right;\n    }\n</style>\n<table border=\"1\" class=\"dataframe\">\n  <thead>\n    <tr style=\"text-align: right;\">\n      <th></th>\n      <th>Marital status</th>\n      <th>Application mode</th>\n      <th>Application order</th>\n      <th>Course</th>\n      <th>Daytime/evening attendance</th>\n      <th>Previous qualification</th>\n      <th>Nacionality</th>\n      <th>Mother's qualification</th>\n      <th>Father's qualification</th>\n      <th>Mother's occupation</th>\n      <th>...</th>\n      <th>Curricular units 1st sem (without evaluations)</th>\n      <th>Curricular units 2nd sem (credited)</th>\n      <th>Curricular units 2nd sem (enrolled)</th>\n      <th>Curricular units 2nd sem (evaluations)</th>\n      <th>Curricular units 2nd sem (approved)</th>\n      <th>Curricular units 2nd sem (grade)</th>\n      <th>Curricular units 2nd sem (without evaluations)</th>\n      <th>Unemployment rate</th>\n      <th>Inflation rate</th>\n      <th>GDP</th>\n    </tr>\n  </thead>\n  <tbody>\n    <tr>\n      <th>count</th>\n      <td>4424.000000</td>\n      <td>4424.000000</td>\n      <td>4424.000000</td>\n      <td>4424.000000</td>\n      <td>4424.000000</td>\n      <td>4424.000000</td>\n      <td>4424.000000</td>\n      <td>4424.000000</td>\n      <td>4424.000000</td>\n      <td>4424.000000</td>\n      <td>...</td>\n      <td>4424.000000</td>\n      <td>4424.000000</td>\n      <td>4424.000000</td>\n      <td>4424.000000</td>\n      <td>4424.000000</td>\n      <td>4424.000000</td>\n      <td>4424.000000</td>\n      <td>4424.000000</td>\n      <td>4424.000000</td>\n      <td>4424.000000</td>\n    </tr>\n    <tr>\n      <th>mean</th>\n      <td>1.178571</td>\n      <td>6.886980</td>\n      <td>1.727848</td>\n      <td>9.899186</td>\n      <td>0.890823</td>\n      <td>2.531420</td>\n      <td>1.254521</td>\n      <td>12.322107</td>\n      <td>16.455244</td>\n      <td>7.317812</td>\n      <td>...</td>\n      <td>0.137658</td>\n      <td>0.541817</td>\n      <td>6.232143</td>\n      <td>8.063291</td>\n      <td>4.435805</td>\n      <td>10.230206</td>\n      <td>0.150316</td>\n      <td>11.566139</td>\n      <td>1.228029</td>\n      <td>0.001969</td>\n    </tr>\n    <tr>\n      <th>std</th>\n      <td>0.605747</td>\n      <td>5.298964</td>\n      <td>1.313793</td>\n      <td>4.331792</td>\n      <td>0.311897</td>\n      <td>3.963707</td>\n      <td>1.748447</td>\n      <td>9.026251</td>\n      <td>11.044800</td>\n      <td>3.997828</td>\n      <td>...</td>\n      <td>0.690880</td>\n      <td>1.918546</td>\n      <td>2.195951</td>\n      <td>3.947951</td>\n      <td>3.014764</td>\n      <td>5.210808</td>\n      <td>0.753774</td>\n      <td>2.663850</td>\n      <td>1.382711</td>\n      <td>2.269935</td>\n    </tr>\n    <tr>\n      <th>min</th>\n      <td>1.000000</td>\n      <td>1.000000</td>\n      <td>0.000000</td>\n      <td>1.000000</td>\n      <td>0.000000</td>\n      <td>1.000000</td>\n      <td>1.000000</td>\n      <td>1.000000</td>\n      <td>1.000000</td>\n      <td>1.000000</td>\n      <td>...</td>\n      <td>0.000000</td>\n      <td>0.000000</td>\n      <td>0.000000</td>\n      <td>0.000000</td>\n      <td>0.000000</td>\n      <td>0.000000</td>\n      <td>0.000000</td>\n      <td>7.600000</td>\n      <td>-0.800000</td>\n      <td>-4.060000</td>\n    </tr>\n    <tr>\n      <th>25%</th>\n      <td>1.000000</td>\n      <td>1.000000</td>\n      <td>1.000000</td>\n      <td>6.000000</td>\n      <td>1.000000</td>\n      <td>1.000000</td>\n      <td>1.000000</td>\n      <td>2.000000</td>\n      <td>3.000000</td>\n      <td>5.000000</td>\n      <td>...</td>\n      <td>0.000000</td>\n      <td>0.000000</td>\n      <td>5.000000</td>\n      <td>6.000000</td>\n      <td>2.000000</td>\n      <td>10.750000</td>\n      <td>0.000000</td>\n      <td>9.400000</td>\n      <td>0.300000</td>\n      <td>-1.700000</td>\n    </tr>\n    <tr>\n      <th>50%</th>\n      <td>1.000000</td>\n      <td>8.000000</td>\n      <td>1.000000</td>\n      <td>10.000000</td>\n      <td>1.000000</td>\n      <td>1.000000</td>\n      <td>1.000000</td>\n      <td>13.000000</td>\n      <td>14.000000</td>\n      <td>6.000000</td>\n      <td>...</td>\n      <td>0.000000</td>\n      <td>0.000000</td>\n      <td>6.000000</td>\n      <td>8.000000</td>\n      <td>5.000000</td>\n      <td>12.200000</td>\n      <td>0.000000</td>\n      <td>11.100000</td>\n      <td>1.400000</td>\n      <td>0.320000</td>\n    </tr>\n    <tr>\n      <th>75%</th>\n      <td>1.000000</td>\n      <td>12.000000</td>\n      <td>2.000000</td>\n      <td>13.000000</td>\n      <td>1.000000</td>\n      <td>1.000000</td>\n      <td>1.000000</td>\n      <td>22.000000</td>\n      <td>27.000000</td>\n      <td>10.000000</td>\n      <td>...</td>\n      <td>0.000000</td>\n      <td>0.000000</td>\n      <td>7.000000</td>\n      <td>10.000000</td>\n      <td>6.000000</td>\n      <td>13.333333</td>\n      <td>0.000000</td>\n      <td>13.900000</td>\n      <td>2.600000</td>\n      <td>1.790000</td>\n    </tr>\n    <tr>\n      <th>max</th>\n      <td>6.000000</td>\n      <td>18.000000</td>\n      <td>9.000000</td>\n      <td>17.000000</td>\n      <td>1.000000</td>\n      <td>17.000000</td>\n      <td>21.000000</td>\n      <td>29.000000</td>\n      <td>34.000000</td>\n      <td>32.000000</td>\n      <td>...</td>\n      <td>12.000000</td>\n      <td>19.000000</td>\n      <td>23.000000</td>\n      <td>33.000000</td>\n      <td>20.000000</td>\n      <td>18.571429</td>\n      <td>12.000000</td>\n      <td>16.200000</td>\n      <td>3.700000</td>\n      <td>3.510000</td>\n    </tr>\n  </tbody>\n</table>\n<p>8 rows × 34 columns</p>\n</div>"
     },
     "execution_count": 25,
     "metadata": {},
     "output_type": "execute_result"
    }
   ],
   "source": [
    "# Deskripsi Dataset\n",
    "dropout_df.describe()"
   ],
   "metadata": {
    "collapsed": false,
    "ExecuteTime": {
     "end_time": "2023-09-25T07:10:02.599349014Z",
     "start_time": "2023-09-25T07:10:02.317342220Z"
    }
   },
   "id": "8a211a57a2b5c0f3"
  },
  {
   "cell_type": "markdown",
   "source": [
    "### Missing Value"
   ],
   "metadata": {
    "collapsed": false
   },
   "id": "dfeebfee1ec8b37b"
  },
  {
   "cell_type": "code",
   "execution_count": 26,
   "outputs": [
    {
     "data": {
      "text/plain": "Marital status                                    0\nApplication mode                                  0\nApplication order                                 0\nCourse                                            0\nDaytime/evening attendance                        0\nPrevious qualification                            0\nNacionality                                       0\nMother's qualification                            0\nFather's qualification                            0\nMother's occupation                               0\nFather's occupation                               0\nDisplaced                                         0\nEducational special needs                         0\nDebtor                                            0\nTuition fees up to date                           0\nGender                                            0\nScholarship holder                                0\nAge at enrollment                                 0\nInternational                                     0\nCurricular units 1st sem (credited)               0\nCurricular units 1st sem (enrolled)               0\nCurricular units 1st sem (evaluations)            0\nCurricular units 1st sem (approved)               0\nCurricular units 1st sem (grade)                  0\nCurricular units 1st sem (without evaluations)    0\nCurricular units 2nd sem (credited)               0\nCurricular units 2nd sem (enrolled)               0\nCurricular units 2nd sem (evaluations)            0\nCurricular units 2nd sem (approved)               0\nCurricular units 2nd sem (grade)                  0\nCurricular units 2nd sem (without evaluations)    0\nUnemployment rate                                 0\nInflation rate                                    0\nGDP                                               0\nTarget                                            0\ndtype: int64"
     },
     "execution_count": 26,
     "metadata": {},
     "output_type": "execute_result"
    }
   ],
   "source": [
    "# Cek Missing Value \n",
    "dropout_df.isna().sum()"
   ],
   "metadata": {
    "collapsed": false,
    "ExecuteTime": {
     "end_time": "2023-09-25T07:10:02.610006042Z",
     "start_time": "2023-09-25T07:10:02.564931145Z"
    }
   },
   "id": "65869a6f8285e770"
  },
  {
   "cell_type": "markdown",
   "source": [
    "### Menangani Outlier"
   ],
   "metadata": {
    "collapsed": false
   },
   "id": "801cdae2eeab5686"
  },
  {
   "cell_type": "code",
   "execution_count": 27,
   "outputs": [
    {
     "data": {
      "text/plain": "<Axes: xlabel='Marital status'>"
     },
     "execution_count": 27,
     "metadata": {},
     "output_type": "execute_result"
    },
    {
     "data": {
      "text/plain": "<Figure size 640x480 with 1 Axes>",
      "image/png": "[encoded data removed]"
     },
     "metadata": {},
     "output_type": "display_data"
    }
   ],
   "source": [
    "# Outlier Fitur Prestasi\n",
    "sns.boxplot(x=dropout_df['Marital status'])"
   ],
   "metadata": {
    "collapsed": false,
    "ExecuteTime": {
     "end_time": "2023-09-25T07:10:48.042883694Z",
     "start_time": "2023-09-25T07:10:46.079187062Z"
    }
   },
   "id": "39c9e1aaf48934ad"
  },
  {
   "cell_type": "code",
   "execution_count": 11,
   "outputs": [
    {
     "data": {
      "text/plain": "<Axes: xlabel='NilaiUjian'>"
     },
     "execution_count": 11,
     "metadata": {},
     "output_type": "execute_result"
    },
    {
     "data": {
      "text/plain": "<Figure size 640x480 with 1 Axes>",
      "image/png": "[encoded data removed]"
     },
     "metadata": {},
     "output_type": "display_data"
    }
   ],
   "source": [
    "# Outlier Fitur Nilai Ujian\n",
    "sns.boxplot(x=kip_train['NilaiUjian'])"
   ],
   "metadata": {
    "collapsed": false,
    "ExecuteTime": {
     "end_time": "2023-09-25T06:38:57.748295452Z",
     "start_time": "2023-09-25T06:38:57.428060758Z"
    }
   },
   "id": "1c0b59493ccd813a"
  },
  {
   "cell_type": "code",
   "execution_count": 12,
   "outputs": [
    {
     "data": {
      "text/plain": "<Axes: xlabel='PenghasilanOrtu'>"
     },
     "execution_count": 12,
     "metadata": {},
     "output_type": "execute_result"
    },
    {
     "data": {
      "text/plain": "<Figure size 640x480 with 1 Axes>",
      "image/png": "[encoded data removed]"
     },
     "metadata": {},
     "output_type": "display_data"
    }
   ],
   "source": [
    "# Outlier Fitur Penghasilan Ortu\n",
    "sns.boxplot(x=kip_train['PenghasilanOrtu'])"
   ],
   "metadata": {
    "collapsed": false,
    "ExecuteTime": {
     "end_time": "2023-09-25T06:38:58.122521616Z",
     "start_time": "2023-09-25T06:38:57.778501535Z"
    }
   },
   "id": "8835ca58208d0e38"
  },
  {
   "cell_type": "code",
   "execution_count": 13,
   "outputs": [
    {
     "data": {
      "text/plain": "<Axes: xlabel='PunyaSejenisKIP'>"
     },
     "execution_count": 13,
     "metadata": {},
     "output_type": "execute_result"
    },
    {
     "data": {
      "text/plain": "<Figure size 640x480 with 1 Axes>",
      "image/png": "[encoded data removed]"
     },
     "metadata": {},
     "output_type": "display_data"
    }
   ],
   "source": [
    "# Outlier PunyaSejenis KIP\n",
    "sns.boxplot(x=kip_train['PunyaSejenisKIP'])"
   ],
   "metadata": {
    "collapsed": false,
    "ExecuteTime": {
     "end_time": "2023-09-25T06:40:12.132975069Z",
     "start_time": "2023-09-25T06:40:11.771295641Z"
    }
   },
   "id": "dec65a353feb68a8"
  },
  {
   "cell_type": "code",
   "execution_count": 14,
   "outputs": [
    {
     "data": {
      "text/plain": "<Axes: xlabel='KepemilikanRumah'>"
     },
     "execution_count": 14,
     "metadata": {},
     "output_type": "execute_result"
    },
    {
     "data": {
      "text/plain": "<Figure size 640x480 with 1 Axes>",
      "image/png": "[encoded data removed]"
     },
     "metadata": {},
     "output_type": "display_data"
    }
   ],
   "source": [
    "# Outlier Fitur Kepemilikan Rumah\n",
    "sns.boxplot(x=kip_train['KepemilikanRumah'])"
   ],
   "metadata": {
    "collapsed": false,
    "ExecuteTime": {
     "end_time": "2023-09-25T06:40:23.808850596Z",
     "start_time": "2023-09-25T06:40:23.443699607Z"
    }
   },
   "id": "af013cc92ca611e8"
  },
  {
   "cell_type": "code",
   "execution_count": 15,
   "outputs": [
    {
     "data": {
      "text/plain": "<Axes: xlabel='Target'>"
     },
     "execution_count": 15,
     "metadata": {},
     "output_type": "execute_result"
    },
    {
     "data": {
      "text/plain": "<Figure size 640x480 with 1 Axes>",
      "image/png": "[encoded data removed]"
     },
     "metadata": {},
     "output_type": "display_data"
    }
   ],
   "source": [
    "# Outlier Fitur Target\n",
    "sns.boxplot(x=kip_train['Target'])"
   ],
   "metadata": {
    "collapsed": false,
    "ExecuteTime": {
     "end_time": "2023-09-25T06:41:10.502818255Z",
     "start_time": "2023-09-25T06:41:10.057085402Z"
    }
   },
   "id": "2648d29e423a8ed0"
  },
  {
   "cell_type": "markdown",
   "source": [
    "### Univariate Analysis"
   ],
   "metadata": {
    "collapsed": false
   },
   "id": "79144d881a90bda9"
  },
  {
   "cell_type": "markdown",
   "source": [
    "#### Categorical Features"
   ],
   "metadata": {
    "collapsed": false
   },
   "id": "6bd49593390e532"
  },
  {
   "cell_type": "code",
   "execution_count": 28,
   "outputs": [],
   "source": [
    "numerical_features = ['Application order', 'Age at enrollment', 'Curricular units 1st sem (credited)', 'Curricular units 1st sem (enrolled)', 'Curricular units 1st sem (evaluations)', 'Curricular units 1st sem (approved)']\n",
    "categorical_features = ['Marital status', 'Application mode', 'Course', 'Daytime/evening attendance', 'Previous qualification', 'Nacionality', \"Mother's qualification\", \"Father's qualification\", \"Mother's occupation\", \"Father's occupation\", \"Displaced\", 'Educational special needs', 'Debtor', 'Tuition fees up to date', 'Gender', 'Scholarship holder', 'International', ]"
   ],
   "metadata": {
    "collapsed": false,
    "ExecuteTime": {
     "end_time": "2023-09-25T07:35:11.969731312Z",
     "start_time": "2023-09-25T07:35:11.927778796Z"
    }
   },
   "id": "e40986e58a50ebff"
  },
  {
   "cell_type": "code",
   "execution_count": 29,
   "outputs": [
    {
     "name": "stdout",
     "output_type": "stream",
     "text": [
      "   jumlah sampel  persentase\n",
      "1           3919        88.6\n",
      "2            379         8.6\n",
      "4             91         2.1\n",
      "5             25         0.6\n",
      "6              6         0.1\n",
      "3              4         0.1\n"
     ]
    },
    {
     "data": {
      "text/plain": "<Figure size 640x480 with 1 Axes>",
      "image/png": "[encoded data removed]"
     },
     "metadata": {},
     "output_type": "display_data"
    }
   ],
   "source": [
    "# Fitur Status Perkawinan\n",
    "feature = categorical_features[0]\n",
    "count = dropout_df[feature].value_counts()\n",
    "percent = 100*dropout_df[feature].value_counts(normalize=True)\n",
    "df = pd.DataFrame({'jumlah sampel':count, 'persentase':percent.round(1)})\n",
    "print(df)\n",
    "count.plot(kind='bar', title=feature);"
   ],
   "metadata": {
    "collapsed": false,
    "ExecuteTime": {
     "end_time": "2023-09-25T07:37:56.899823986Z",
     "start_time": "2023-09-25T07:37:55.620799203Z"
    }
   },
   "id": "a9b78c4da9501cc1"
  }
 ],
 "metadata": {
  "kernelspec": {
   "display_name": "Python 3",
   "language": "python",
   "name": "python3"
  },
  "language_info": {
   "codemirror_mode": {
    "name": "ipython",
    "version": 2
   },
   "file_extension": ".py",
   "mimetype": "text/x-python",
   "name": "python",
   "nbconvert_exporter": "python",
   "pygments_lexer": "ipython2",
   "version": "2.7.6"
  }
 },
 "nbformat": 4,
 "nbformat_minor": 5
}
